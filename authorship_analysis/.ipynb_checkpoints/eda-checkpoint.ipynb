{
 "cells": [
  {
   "cell_type": "code",
   "execution_count": 1,
   "id": "8013273e-a8ab-49b9-8f00-ecf880727ab3",
   "metadata": {},
   "outputs": [],
   "source": [
    "import os\n",
    "import json\n",
    "import pandas as pd\n",
    "from datetime import datetime"
   ]
  },
  {
   "cell_type": "code",
   "execution_count": 3,
   "id": "bf864881-7064-42ef-b8b9-ed7fe6a436dc",
   "metadata": {},
   "outputs": [
    {
     "name": "stdout",
     "output_type": "stream",
     "text": [
      "Found 1447 .jsonl files in ../data\n"
     ]
    }
   ],
   "source": [
    "data_dir = '../data'\n",
    "jsonl_files = [f for f in os.listdir(data_dir) if f.endswith('.jsonl')]\n",
    "print(f\"Found {len(jsonl_files)} .jsonl files in {data_dir}\")"
   ]
  },
  {
   "cell_type": "code",
   "execution_count": 5,
   "id": "84480098-4ae1-4420-8265-f2a828533c7a",
   "metadata": {},
   "outputs": [],
   "source": [
    "FAST_MODE = True\n",
    "SAMPLE_SIZE = 50\n",
    "files_to_load = jsonl_files[:SAMPLE_SIZE] if FAST_MODE else jsonl_files"
   ]
  },
  {
   "cell_type": "code",
   "execution_count": 6,
   "id": "1226a19c-f275-4132-bb87-4ce4103c34d7",
   "metadata": {},
   "outputs": [
    {
     "name": "stdout",
     "output_type": "stream",
     "text": [
      "Loaded 100730 events from 50 files.\n"
     ]
    }
   ],
   "source": [
    "all_records = []\n",
    "for file in files_to_load:\n",
    "    path = os.path.join(data_dir, file)\n",
    "    with open(path, 'r') as f:\n",
    "        for line in f:\n",
    "            try:\n",
    "                all_records.append(json.loads(line))\n",
    "            except json.JSONDecodeError:\n",
    "                continue  \n",
    "\n",
    "df = pd.DataFrame(all_records)\n",
    "print(f\"Loaded {len(df)} events from {len(files_to_load)} files.\")"
   ]
  },
  {
   "cell_type": "code",
   "execution_count": 7,
   "id": "1f84bf79-8655-4291-9ed0-6116c4f26a9d",
   "metadata": {},
   "outputs": [],
   "source": [
    "df['eventTimestamp'] = pd.to_datetime(df['eventTimestamp'], unit='ms', errors='coerce')"
   ]
  },
  {
   "cell_type": "code",
   "execution_count": 8,
   "id": "2b9caf7b-9df5-4fba-845b-9b13c2f731f7",
   "metadata": {},
   "outputs": [
    {
     "name": "stdout",
     "output_type": "stream",
     "text": [
      "\n",
      "Event types:\n",
      "eventName\n",
      "text-insert          85824\n",
      "text-delete           6544\n",
      "suggestion-hover      3637\n",
      "cursor-forward        1030\n",
      "cursor-backward        724\n",
      "suggestion-get         656\n",
      "suggestion-close       644\n",
      "suggestion-open        638\n",
      "suggestion-select      482\n",
      "cursor-select          298\n",
      "suggestion-down        140\n",
      "suggestion-up           57\n",
      "system-initialize       50\n",
      "suggestion-reopen        6\n",
      "Name: count, dtype: int64\n",
      "\n",
      "Event sources:\n",
      "eventSource\n",
      "user    99036\n",
      "api      1694\n",
      "Name: count, dtype: int64\n"
     ]
    }
   ],
   "source": [
    "print(\"\\nEvent types:\")\n",
    "print(df['eventName'].value_counts())\n",
    "\n",
    "print(\"\\nEvent sources:\")\n",
    "print(df['eventSource'].value_counts())"
   ]
  },
  {
   "cell_type": "code",
   "execution_count": 9,
   "id": "f1883653-42f2-4939-afc0-15aab4db8ab2",
   "metadata": {},
   "outputs": [
    {
     "name": "stdout",
     "output_type": "stream",
     "text": [
      "\n",
      "Suggestion counts:\n",
      "count    100730.000000\n",
      "mean          0.026626\n",
      "std           0.344789\n",
      "min           0.000000\n",
      "25%           0.000000\n",
      "50%           0.000000\n",
      "75%           0.000000\n",
      "max           5.000000\n",
      "Name: numSuggestions, dtype: float64\n"
     ]
    }
   ],
   "source": [
    "if 'currentSuggestions' in df.columns:\n",
    "    df['numSuggestions'] = df['currentSuggestions'].apply(lambda x: len(x) if isinstance(x, list) else 0)\n",
    "    print(\"\\nSuggestion counts:\")\n",
    "    print(df['numSuggestions'].describe())"
   ]
  },
  {
   "cell_type": "code",
   "execution_count": 10,
   "id": "eeba3139-d5e8-41dc-ad61-88415546fee4",
   "metadata": {},
   "outputs": [
    {
     "name": "stdout",
     "output_type": "stream",
     "text": [
      "\n",
      "Events per minute:\n",
      "eventTimestamp\n",
      "2021-08-16 07:00:00      7\n",
      "2021-08-16 07:01:00    134\n",
      "2021-08-16 07:02:00    293\n",
      "2021-08-16 07:03:00    158\n",
      "2021-08-16 07:04:00    122\n",
      "dtype: int64\n"
     ]
    }
   ],
   "source": [
    "print(\"\\nEvents per minute:\")\n",
    "print(df.groupby(df['eventTimestamp'].dt.floor('min')).size().head())"
   ]
  },
  {
   "cell_type": "code",
   "execution_count": 11,
   "id": "1d4a73f3-07cd-48a2-8d8a-2b2c99c0ce72",
   "metadata": {},
   "outputs": [
    {
     "name": "stdout",
     "output_type": "stream",
     "text": [
      "\n",
      "Sample text insertions:\n",
      "1    {'ops': [{'retain': 244}, {'insert': ' '}]}\n",
      "2    {'ops': [{'retain': 245}, {'insert': ' '}]}\n",
      "3    {'ops': [{'retain': 246}, {'insert': ' '}]}\n",
      "7    {'ops': [{'retain': 244}, {'insert': ' '}]}\n",
      "8    {'ops': [{'retain': 245}, {'insert': 'R'}]}\n",
      "Name: textDelta, dtype: object\n"
     ]
    }
   ],
   "source": [
    "print(\"\\nSample text insertions:\")\n",
    "if 'textDelta' in df.columns:\n",
    "    print(df[df['eventName'] == 'text-insert']['textDelta'].head())"
   ]
  },
  {
   "cell_type": "code",
   "execution_count": null,
   "id": "70f8124b-b889-4b07-84c4-adc560e0d7d2",
   "metadata": {},
   "outputs": [],
   "source": []
  }
 ],
 "metadata": {
  "kernelspec": {
   "display_name": "Python 3 (ipykernel)",
   "language": "python",
   "name": "python3"
  },
  "language_info": {
   "codemirror_mode": {
    "name": "ipython",
    "version": 3
   },
   "file_extension": ".py",
   "mimetype": "text/x-python",
   "name": "python",
   "nbconvert_exporter": "python",
   "pygments_lexer": "ipython3",
   "version": "3.12.7"
  }
 },
 "nbformat": 4,
 "nbformat_minor": 5
}
