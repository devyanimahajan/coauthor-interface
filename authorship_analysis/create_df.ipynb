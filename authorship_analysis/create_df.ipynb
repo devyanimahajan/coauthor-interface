{
 "cells": [
  {
   "cell_type": "code",
   "execution_count": 1,
   "id": "eca3c41a-b340-434d-a927-d0a29e647fc1",
   "metadata": {},
   "outputs": [],
   "source": [
    "import os\n",
    "import json\n",
    "import pandas as pd\n",
    "from glob import glob\n",
    "from tqdm import tqdm"
   ]
  },
  {
   "cell_type": "code",
   "execution_count": 2,
   "id": "c141f4f3-4b23-47ce-bd4b-385cda7ecc46",
   "metadata": {},
   "outputs": [],
   "source": [
    "data_folder = '../data'  \n",
    "jsonl_files = glob(os.path.join(data_folder, '*.jsonl'))"
   ]
  },
  {
   "cell_type": "code",
   "execution_count": 3,
   "id": "578ba3d0-62b7-4aa7-be13-6d1583b92e46",
   "metadata": {},
   "outputs": [
    {
     "name": "stderr",
     "output_type": "stream",
     "text": [
      "Reading JSONL files: 100%|██████████████████| 1447/1447 [01:15<00:00, 19.13it/s]\n"
     ]
    }
   ],
   "source": [
    "all_events = []\n",
    "\n",
    "for file_path in tqdm(jsonl_files, desc=\"Reading JSONL files\"):\n",
    "    session_id = os.path.splitext(os.path.basename(file_path))[0]\n",
    "    with open(file_path, 'r') as f:\n",
    "        for line in f:\n",
    "            try:\n",
    "                event = json.loads(line)\n",
    "                event['session_id'] = session_id\n",
    "                all_events.append(event)\n",
    "            except json.JSONDecodeError:\n",
    "                continue"
   ]
  },
  {
   "cell_type": "code",
   "execution_count": 4,
   "id": "51988bd9-d40d-4bb5-b0f6-5f6f0eb7ca7e",
   "metadata": {},
   "outputs": [],
   "source": [
    "df = pd.DataFrame(all_events)"
   ]
  },
  {
   "cell_type": "code",
   "execution_count": 5,
   "id": "2c9df71f-3173-42ce-b1d8-040e82a0e2fe",
   "metadata": {},
   "outputs": [],
   "source": [
    "if 'eventTimestamp' in df.columns:\n",
    "    df['eventTimestamp'] = pd.to_datetime(df['eventTimestamp'], unit='ms', errors='coerce')"
   ]
  },
  {
   "cell_type": "code",
   "execution_count": 6,
   "id": "4abb8141-ef71-4aa4-b656-ec7470c8ff13",
   "metadata": {},
   "outputs": [
    {
     "name": "stdout",
     "output_type": "stream",
     "text": [
      "Saved combined data to coauthor_combined_cleaned.csv\n"
     ]
    }
   ],
   "source": [
    "output_csv = 'coauthor_combined_cleaned.csv'\n",
    "df.to_csv(output_csv, index=False)\n",
    "print(f\"Saved combined data to {output_csv}\")"
   ]
  },
  {
   "cell_type": "code",
   "execution_count": null,
   "id": "c1cd0917-2c53-4578-9497-713a92583760",
   "metadata": {},
   "outputs": [],
   "source": []
  }
 ],
 "metadata": {
  "kernelspec": {
   "display_name": "Python 3 (ipykernel)",
   "language": "python",
   "name": "python3"
  },
  "language_info": {
   "codemirror_mode": {
    "name": "ipython",
    "version": 3
   },
   "file_extension": ".py",
   "mimetype": "text/x-python",
   "name": "python",
   "nbconvert_exporter": "python",
   "pygments_lexer": "ipython3",
   "version": "3.12.7"
  }
 },
 "nbformat": 4,
 "nbformat_minor": 5
}
