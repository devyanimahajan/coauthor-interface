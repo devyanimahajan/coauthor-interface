import os
import json
import pandas as pd
from datetime import datetime


data_dir = '../data'
jsonl_files = [f for f in os.listdir(data_dir) if f.endswith('.jsonl')]
print(f"Found {len(jsonl_files)} .jsonl files in {data_dir}")


FAST_MODE = True
SAMPLE_SIZE = 50
files_to_load = jsonl_files[:SAMPLE_SIZE] if FAST_MODE else jsonl_files


all_records = []
for file in files_to_load:
    path = os.path.join(data_dir, file)
    with open(path, 'r') as f:
        for line in f:
            try:
                all_records.append(json.loads(line))
            except json.JSONDecodeError:
                continue  

df = pd.DataFrame(all_records)
print(f"Loaded {len(df)} events from {len(files_to_load)} files.")


df['eventTimestamp'] = pd.to_datetime(df['eventTimestamp'], unit='ms', errors='coerce')


print("\nEvent types:")
print(df['eventName'].value_counts())

print("\nEvent sources:")
print(df['eventSource'].value_counts())


if 'currentSuggestions' in df.columns:
    df['numSuggestions'] = df['currentSuggestions'].apply(lambda x: len(x) if isinstance(x, list) else 0)
    print("\nSuggestion counts:")
    print(df['numSuggestions'].describe())


print("\nEvents per minute:")
print(df.groupby(df['eventTimestamp'].dt.floor('min')).size().head())


print("\nSample text insertions:")
if 'textDelta' in df.columns:
    print(df[df['eventName'] == 'text-insert']['textDelta'].head())





import seaborn as sns
import matplotlib.pyplot as plt


sns.histplot(df['numSuggestions'], bins=range(0, df['numSuggestions'].max()+2), kde=False)
plt.title("Distribution of GPT Suggestions per Event")
plt.xlabel("Number of Suggestions")
plt.ylabel("Event Count")
plt.show()


event_counts = df['eventName'].value_counts()

sns.barplot(x=event_counts.values, y=event_counts.index)
plt.title("Distribution of Event Types")
plt.xlabel("Count")
plt.ylabel("Event Type")
plt.show()
